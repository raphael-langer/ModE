{
 "cells": [
  {
   "cell_type": "markdown",
   "metadata": {},
   "source": [
    "## The System:"
   ]
  },
  {
   "cell_type": "markdown",
   "metadata": {},
   "source": [
    "![grafik.png][def]\n",
    "\n",
    "\n",
    "[def]: .\\PTG_System.png"
   ]
  },
  {
   "cell_type": "markdown",
   "metadata": {},
   "source": [
    "## Preperation\n",
    "#### Welche Packages brauchen wir NICHT?"
   ]
  },
  {
   "cell_type": "code",
   "execution_count": 6,
   "metadata": {},
   "outputs": [
    {
     "name": "stdout",
     "output_type": "stream",
     "text": [
      "Requirement already satisfied: gurobipy==10.0.0 in c:\\users\\eva-m\\documents\\uni\\ss2024\\mode\\programmieren\\venv_mode\\lib\\site-packages (10.0.0)"
     ]
    },
    {
     "name": "stderr",
     "output_type": "stream",
     "text": [
      "WARNING: Ignoring invalid distribution -atplotlib (c:\\users\\eva-m\\documents\\uni\\ss2024\\mode\\programmieren\\venv_mode\\lib\\site-packages)\n",
      "WARNING: Ignoring invalid distribution -atplotlib (c:\\users\\eva-m\\documents\\uni\\ss2024\\mode\\programmieren\\venv_mode\\lib\\site-packages)\n"
     ]
    },
    {
     "name": "stdout",
     "output_type": "stream",
     "text": [
      "\n",
      "Requirement already satisfied: pyomo==6.6.2 in c:\\users\\eva-m\\documents\\uni\\ss2024\\mode\\programmieren\\venv_mode\\lib\\site-packages (6.6.2)\n",
      "Requirement already satisfied: ply in c:\\users\\eva-m\\documents\\uni\\ss2024\\mode\\programmieren\\venv_mode\\lib\\site-packages (from pyomo==6.6.2) (3.11)\n"
     ]
    },
    {
     "name": "stderr",
     "output_type": "stream",
     "text": [
      "WARNING: Ignoring invalid distribution -atplotlib (c:\\users\\eva-m\\documents\\uni\\ss2024\\mode\\programmieren\\venv_mode\\lib\\site-packages)\n",
      "WARNING: Ignoring invalid distribution -atplotlib (c:\\users\\eva-m\\documents\\uni\\ss2024\\mode\\programmieren\\venv_mode\\lib\\site-packages)\n"
     ]
    },
    {
     "name": "stdout",
     "output_type": "stream",
     "text": [
      "Requirement already satisfied: numpy==1.24.3 in c:\\users\\eva-m\\documents\\uni\\ss2024\\mode\\programmieren\\venv_mode\\lib\\site-packages (1.24.3)\n"
     ]
    },
    {
     "name": "stderr",
     "output_type": "stream",
     "text": [
      "WARNING: Ignoring invalid distribution -atplotlib (c:\\users\\eva-m\\documents\\uni\\ss2024\\mode\\programmieren\\venv_mode\\lib\\site-packages)\n",
      "WARNING: Ignoring invalid distribution -atplotlib (c:\\users\\eva-m\\documents\\uni\\ss2024\\mode\\programmieren\\venv_mode\\lib\\site-packages)\n"
     ]
    },
    {
     "name": "stdout",
     "output_type": "stream",
     "text": [
      "Requirement already satisfied: pandas==1.3.5 in c:\\users\\eva-m\\documents\\uni\\ss2024\\mode\\programmieren\\venv_mode\\lib\\site-packages (1.3.5)\n",
      "Requirement already satisfied: python-dateutil>=2.7.3 in c:\\users\\eva-m\\documents\\uni\\ss2024\\mode\\programmieren\\venv_mode\\lib\\site-packages (from pandas==1.3.5) (2.9.0.post0)\n",
      "Requirement already satisfied: pytz>=2017.3 in c:\\users\\eva-m\\documents\\uni\\ss2024\\mode\\programmieren\\venv_mode\\lib\\site-packages (from pandas==1.3.5) (2024.1)\n",
      "Requirement already satisfied: numpy>=1.21.0 in c:\\users\\eva-m\\documents\\uni\\ss2024\\mode\\programmieren\\venv_mode\\lib\\site-packages (from pandas==1.3.5) (1.24.3)\n",
      "Requirement already satisfied: six>=1.5 in c:\\users\\eva-m\\documents\\uni\\ss2024\\mode\\programmieren\\venv_mode\\lib\\site-packages (from python-dateutil>=2.7.3->pandas==1.3.5) (1.16.0)\n"
     ]
    },
    {
     "name": "stderr",
     "output_type": "stream",
     "text": [
      "WARNING: Ignoring invalid distribution -atplotlib (c:\\users\\eva-m\\documents\\uni\\ss2024\\mode\\programmieren\\venv_mode\\lib\\site-packages)\n",
      "WARNING: Ignoring invalid distribution -atplotlib (c:\\users\\eva-m\\documents\\uni\\ss2024\\mode\\programmieren\\venv_mode\\lib\\site-packages)\n"
     ]
    },
    {
     "name": "stdout",
     "output_type": "stream",
     "text": [
      "Requirement already satisfied: tsam==2.3.1 in c:\\users\\eva-m\\documents\\uni\\ss2024\\mode\\programmieren\\venv_mode\\lib\\site-packages (2.3.1)\n",
      "Requirement already satisfied: scikit-learn>=0.0 in c:\\users\\eva-m\\documents\\uni\\ss2024\\mode\\programmieren\\venv_mode\\lib\\site-packages (from tsam==2.3.1) (1.4.2)\n",
      "Requirement already satisfied: pandas>=0.18.1 in c:\\users\\eva-m\\documents\\uni\\ss2024\\mode\\programmieren\\venv_mode\\lib\\site-packages (from tsam==2.3.1) (1.3.5)\n",
      "Requirement already satisfied: numpy>=1.11.0 in c:\\users\\eva-m\\documents\\uni\\ss2024\\mode\\programmieren\\venv_mode\\lib\\site-packages (from tsam==2.3.1) (1.24.3)\n",
      "Requirement already satisfied: pyomo>=6.4.3 in c:\\users\\eva-m\\documents\\uni\\ss2024\\mode\\programmieren\\venv_mode\\lib\\site-packages (from tsam==2.3.1) (6.6.2)\n",
      "Requirement already satisfied: networkx in c:\\users\\eva-m\\documents\\uni\\ss2024\\mode\\programmieren\\venv_mode\\lib\\site-packages (from tsam==2.3.1) (3.3)\n",
      "Requirement already satisfied: tqdm in c:\\users\\eva-m\\documents\\uni\\ss2024\\mode\\programmieren\\venv_mode\\lib\\site-packages (from tsam==2.3.1) (4.66.4)\n",
      "Requirement already satisfied: highspy in c:\\users\\eva-m\\documents\\uni\\ss2024\\mode\\programmieren\\venv_mode\\lib\\site-packages (from tsam==2.3.1) (1.5.3)\n",
      "Requirement already satisfied: python-dateutil>=2.7.3 in c:\\users\\eva-m\\documents\\uni\\ss2024\\mode\\programmieren\\venv_mode\\lib\\site-packages (from pandas>=0.18.1->tsam==2.3.1) (2.9.0.post0)\n",
      "Requirement already satisfied: pytz>=2017.3 in c:\\users\\eva-m\\documents\\uni\\ss2024\\mode\\programmieren\\venv_mode\\lib\\site-packages (from pandas>=0.18.1->tsam==2.3.1) (2024.1)\n",
      "Requirement already satisfied: ply in c:\\users\\eva-m\\documents\\uni\\ss2024\\mode\\programmieren\\venv_mode\\lib\\site-packages (from pyomo>=6.4.3->tsam==2.3.1) (3.11)\n",
      "Requirement already satisfied: scipy>=1.6.0 in c:\\users\\eva-m\\documents\\uni\\ss2024\\mode\\programmieren\\venv_mode\\lib\\site-packages (from scikit-learn>=0.0->tsam==2.3.1) (1.13.0)\n",
      "Requirement already satisfied: joblib>=1.2.0 in c:\\users\\eva-m\\documents\\uni\\ss2024\\mode\\programmieren\\venv_mode\\lib\\site-packages (from scikit-learn>=0.0->tsam==2.3.1) (1.4.2)\n",
      "Requirement already satisfied: threadpoolctl>=2.0.0 in c:\\users\\eva-m\\documents\\uni\\ss2024\\mode\\programmieren\\venv_mode\\lib\\site-packages (from scikit-learn>=0.0->tsam==2.3.1) (3.5.0)\n",
      "Requirement already satisfied: colorama in c:\\users\\eva-m\\documents\\uni\\ss2024\\mode\\programmieren\\venv_mode\\lib\\site-packages (from tqdm->tsam==2.3.1) (0.4.6)\n",
      "Requirement already satisfied: six>=1.5 in c:\\users\\eva-m\\documents\\uni\\ss2024\\mode\\programmieren\\venv_mode\\lib\\site-packages (from python-dateutil>=2.7.3->pandas>=0.18.1->tsam==2.3.1) (1.16.0)\n"
     ]
    },
    {
     "name": "stderr",
     "output_type": "stream",
     "text": [
      "WARNING: Ignoring invalid distribution -atplotlib (c:\\users\\eva-m\\documents\\uni\\ss2024\\mode\\programmieren\\venv_mode\\lib\\site-packages)\n",
      "WARNING: Ignoring invalid distribution -atplotlib (c:\\users\\eva-m\\documents\\uni\\ss2024\\mode\\programmieren\\venv_mode\\lib\\site-packages)\n"
     ]
    },
    {
     "name": "stdout",
     "output_type": "stream",
     "text": [
      "Requirement already satisfied: matplotlib in c:\\users\\eva-m\\appdata\\roaming\\python\\python310\\site-packages (3.9.0)\n",
      "Requirement already satisfied: contourpy>=1.0.1 in c:\\users\\eva-m\\documents\\uni\\ss2024\\mode\\programmieren\\venv_mode\\lib\\site-packages (from matplotlib) (1.2.1)\n",
      "Requirement already satisfied: cycler>=0.10 in c:\\users\\eva-m\\documents\\uni\\ss2024\\mode\\programmieren\\venv_mode\\lib\\site-packages (from matplotlib) (0.12.1)\n",
      "Requirement already satisfied: fonttools>=4.22.0 in c:\\users\\eva-m\\documents\\uni\\ss2024\\mode\\programmieren\\venv_mode\\lib\\site-packages (from matplotlib) (4.51.0)\n",
      "Requirement already satisfied: kiwisolver>=1.3.1 in c:\\users\\eva-m\\documents\\uni\\ss2024\\mode\\programmieren\\venv_mode\\lib\\site-packages (from matplotlib) (1.4.5)\n",
      "Requirement already satisfied: numpy>=1.23 in c:\\users\\eva-m\\documents\\uni\\ss2024\\mode\\programmieren\\venv_mode\\lib\\site-packages (from matplotlib) (1.24.3)\n",
      "Requirement already satisfied: packaging>=20.0 in c:\\users\\eva-m\\documents\\uni\\ss2024\\mode\\programmieren\\venv_mode\\lib\\site-packages (from matplotlib) (24.0)\n",
      "Requirement already satisfied: pillow>=8 in c:\\users\\eva-m\\documents\\uni\\ss2024\\mode\\programmieren\\venv_mode\\lib\\site-packages (from matplotlib) (10.3.0)\n",
      "Requirement already satisfied: pyparsing>=2.3.1 in c:\\users\\eva-m\\documents\\uni\\ss2024\\mode\\programmieren\\venv_mode\\lib\\site-packages (from matplotlib) (3.1.2)\n",
      "Requirement already satisfied: python-dateutil>=2.7 in c:\\users\\eva-m\\documents\\uni\\ss2024\\mode\\programmieren\\venv_mode\\lib\\site-packages (from matplotlib) (2.9.0.post0)\n",
      "Requirement already satisfied: six>=1.5 in c:\\users\\eva-m\\documents\\uni\\ss2024\\mode\\programmieren\\venv_mode\\lib\\site-packages (from python-dateutil>=2.7->matplotlib) (1.16.0)\n"
     ]
    },
    {
     "name": "stderr",
     "output_type": "stream",
     "text": [
      "WARNING: Ignoring invalid distribution -atplotlib (c:\\users\\eva-m\\documents\\uni\\ss2024\\mode\\programmieren\\venv_mode\\lib\\site-packages)\n",
      "WARNING: Ignoring invalid distribution -atplotlib (c:\\users\\eva-m\\documents\\uni\\ss2024\\mode\\programmieren\\venv_mode\\lib\\site-packages)\n"
     ]
    },
    {
     "name": "stdout",
     "output_type": "stream",
     "text": [
      "Requirement already satisfied: july in c:\\users\\eva-m\\documents\\uni\\ss2024\\mode\\programmieren\\venv_mode\\lib\\site-packages (0.1.3)\n",
      "Requirement already satisfied: matplotlib in c:\\users\\eva-m\\appdata\\roaming\\python\\python310\\site-packages (from july) (3.9.0)\n",
      "Requirement already satisfied: numpy in c:\\users\\eva-m\\documents\\uni\\ss2024\\mode\\programmieren\\venv_mode\\lib\\site-packages (from july) (1.24.3)\n",
      "Requirement already satisfied: contourpy>=1.0.1 in c:\\users\\eva-m\\documents\\uni\\ss2024\\mode\\programmieren\\venv_mode\\lib\\site-packages (from matplotlib->july) (1.2.1)\n",
      "Requirement already satisfied: cycler>=0.10 in c:\\users\\eva-m\\documents\\uni\\ss2024\\mode\\programmieren\\venv_mode\\lib\\site-packages (from matplotlib->july) (0.12.1)\n",
      "Requirement already satisfied: fonttools>=4.22.0 in c:\\users\\eva-m\\documents\\uni\\ss2024\\mode\\programmieren\\venv_mode\\lib\\site-packages (from matplotlib->july) (4.51.0)\n",
      "Requirement already satisfied: kiwisolver>=1.3.1 in c:\\users\\eva-m\\documents\\uni\\ss2024\\mode\\programmieren\\venv_mode\\lib\\site-packages (from matplotlib->july) (1.4.5)\n",
      "Requirement already satisfied: packaging>=20.0 in c:\\users\\eva-m\\documents\\uni\\ss2024\\mode\\programmieren\\venv_mode\\lib\\site-packages (from matplotlib->july) (24.0)\n",
      "Requirement already satisfied: pillow>=8 in c:\\users\\eva-m\\documents\\uni\\ss2024\\mode\\programmieren\\venv_mode\\lib\\site-packages (from matplotlib->july) (10.3.0)\n",
      "Requirement already satisfied: pyparsing>=2.3.1 in c:\\users\\eva-m\\documents\\uni\\ss2024\\mode\\programmieren\\venv_mode\\lib\\site-packages (from matplotlib->july) (3.1.2)\n",
      "Requirement already satisfied: python-dateutil>=2.7 in c:\\users\\eva-m\\documents\\uni\\ss2024\\mode\\programmieren\\venv_mode\\lib\\site-packages (from matplotlib->july) (2.9.0.post0)\n",
      "Requirement already satisfied: six>=1.5 in c:\\users\\eva-m\\documents\\uni\\ss2024\\mode\\programmieren\\venv_mode\\lib\\site-packages (from python-dateutil>=2.7->matplotlib->july) (1.16.0)\n"
     ]
    },
    {
     "name": "stderr",
     "output_type": "stream",
     "text": [
      "WARNING: Ignoring invalid distribution -atplotlib (c:\\users\\eva-m\\documents\\uni\\ss2024\\mode\\programmieren\\venv_mode\\lib\\site-packages)\n",
      "WARNING: Ignoring invalid distribution -atplotlib (c:\\users\\eva-m\\documents\\uni\\ss2024\\mode\\programmieren\\venv_mode\\lib\\site-packages)\n"
     ]
    }
   ],
   "source": [
    "!pip install gurobipy==10.0.0\n",
    "!pip install pyomo==6.6.2\n",
    "!pip install numpy==1.24.3\n",
    "!pip install pandas==1.3.5\n",
    "!pip install tsam==2.3.1\n",
    "!pip install matplotlib\n",
    "!pip install july"
   ]
  },
  {
   "cell_type": "code",
   "execution_count": 16,
   "metadata": {},
   "outputs": [],
   "source": [
    "from gurobipy import *\n",
    "from pyomo.environ import *\n",
    "#import matplotlib.pyplot as plt\n",
    "import numpy as np\n",
    "import pandas as pd\n",
    "import tsam.timeseriesaggregation as tsam\n",
    "#import july\n",
    "#from july.utils import date_range\n"
   ]
  },
  {
   "cell_type": "markdown",
   "metadata": {},
   "source": [
    "## Time series\n",
    "#### Daten laden"
   ]
  },
  {
   "cell_type": "code",
   "execution_count": 21,
   "metadata": {},
   "outputs": [
    {
     "ename": "FileNotFoundError",
     "evalue": "[Errno 2] No such file or directory: '.\\\\Sourcetree_Daten\\\\Data_Sheet_neu.xlsx'",
     "output_type": "error",
     "traceback": [
      "\u001b[1;31m---------------------------------------------------------------------------\u001b[0m",
      "\u001b[1;31mFileNotFoundError\u001b[0m                         Traceback (most recent call last)",
      "Cell \u001b[1;32mIn[21], line 1\u001b[0m\n\u001b[1;32m----> 1\u001b[0m data_sheet \u001b[38;5;241m=\u001b[39m \u001b[43mpd\u001b[49m\u001b[38;5;241;43m.\u001b[39;49m\u001b[43mread_excel\u001b[49m\u001b[43m(\u001b[49m\u001b[38;5;124;43mr\u001b[39;49m\u001b[38;5;124;43m\"\u001b[39;49m\u001b[38;5;124;43m.\u001b[39;49m\u001b[38;5;124;43m\\\u001b[39;49m\u001b[38;5;124;43mSourcetree_Daten\u001b[39;49m\u001b[38;5;124;43m\\\u001b[39;49m\u001b[38;5;124;43mData_Sheet_neu.xlsx\u001b[39;49m\u001b[38;5;124;43m\"\u001b[39;49m\u001b[43m)\u001b[49m\n\u001b[0;32m      2\u001b[0m \u001b[38;5;66;03m#print(data_sheet)\u001b[39;00m\n\u001b[0;32m      4\u001b[0m time_slices \u001b[38;5;241m=\u001b[39m np\u001b[38;5;241m.\u001b[39marray(time_series_data\u001b[38;5;241m.\u001b[39mindex)\n",
      "File \u001b[1;32mc:\\Users\\eva-m\\Documents\\Uni\\SS2024\\ModE\\programmieren\\venv_mode\\lib\\site-packages\\pandas\\util\\_decorators.py:311\u001b[0m, in \u001b[0;36mdeprecate_nonkeyword_arguments.<locals>.decorate.<locals>.wrapper\u001b[1;34m(*args, **kwargs)\u001b[0m\n\u001b[0;32m    305\u001b[0m \u001b[38;5;28;01mif\u001b[39;00m \u001b[38;5;28mlen\u001b[39m(args) \u001b[38;5;241m>\u001b[39m num_allow_args:\n\u001b[0;32m    306\u001b[0m     warnings\u001b[38;5;241m.\u001b[39mwarn(\n\u001b[0;32m    307\u001b[0m         msg\u001b[38;5;241m.\u001b[39mformat(arguments\u001b[38;5;241m=\u001b[39marguments),\n\u001b[0;32m    308\u001b[0m         \u001b[38;5;167;01mFutureWarning\u001b[39;00m,\n\u001b[0;32m    309\u001b[0m         stacklevel\u001b[38;5;241m=\u001b[39mstacklevel,\n\u001b[0;32m    310\u001b[0m     )\n\u001b[1;32m--> 311\u001b[0m \u001b[38;5;28;01mreturn\u001b[39;00m func(\u001b[38;5;241m*\u001b[39margs, \u001b[38;5;241m*\u001b[39m\u001b[38;5;241m*\u001b[39mkwargs)\n",
      "File \u001b[1;32mc:\\Users\\eva-m\\Documents\\Uni\\SS2024\\ModE\\programmieren\\venv_mode\\lib\\site-packages\\pandas\\io\\excel\\_base.py:364\u001b[0m, in \u001b[0;36mread_excel\u001b[1;34m(io, sheet_name, header, names, index_col, usecols, squeeze, dtype, engine, converters, true_values, false_values, skiprows, nrows, na_values, keep_default_na, na_filter, verbose, parse_dates, date_parser, thousands, comment, skipfooter, convert_float, mangle_dupe_cols, storage_options)\u001b[0m\n\u001b[0;32m    362\u001b[0m \u001b[38;5;28;01mif\u001b[39;00m \u001b[38;5;129;01mnot\u001b[39;00m \u001b[38;5;28misinstance\u001b[39m(io, ExcelFile):\n\u001b[0;32m    363\u001b[0m     should_close \u001b[38;5;241m=\u001b[39m \u001b[38;5;28;01mTrue\u001b[39;00m\n\u001b[1;32m--> 364\u001b[0m     io \u001b[38;5;241m=\u001b[39m \u001b[43mExcelFile\u001b[49m\u001b[43m(\u001b[49m\u001b[43mio\u001b[49m\u001b[43m,\u001b[49m\u001b[43m \u001b[49m\u001b[43mstorage_options\u001b[49m\u001b[38;5;241;43m=\u001b[39;49m\u001b[43mstorage_options\u001b[49m\u001b[43m,\u001b[49m\u001b[43m \u001b[49m\u001b[43mengine\u001b[49m\u001b[38;5;241;43m=\u001b[39;49m\u001b[43mengine\u001b[49m\u001b[43m)\u001b[49m\n\u001b[0;32m    365\u001b[0m \u001b[38;5;28;01melif\u001b[39;00m engine \u001b[38;5;129;01mand\u001b[39;00m engine \u001b[38;5;241m!=\u001b[39m io\u001b[38;5;241m.\u001b[39mengine:\n\u001b[0;32m    366\u001b[0m     \u001b[38;5;28;01mraise\u001b[39;00m \u001b[38;5;167;01mValueError\u001b[39;00m(\n\u001b[0;32m    367\u001b[0m         \u001b[38;5;124m\"\u001b[39m\u001b[38;5;124mEngine should not be specified when passing \u001b[39m\u001b[38;5;124m\"\u001b[39m\n\u001b[0;32m    368\u001b[0m         \u001b[38;5;124m\"\u001b[39m\u001b[38;5;124man ExcelFile - ExcelFile already has the engine set\u001b[39m\u001b[38;5;124m\"\u001b[39m\n\u001b[0;32m    369\u001b[0m     )\n",
      "File \u001b[1;32mc:\\Users\\eva-m\\Documents\\Uni\\SS2024\\ModE\\programmieren\\venv_mode\\lib\\site-packages\\pandas\\io\\excel\\_base.py:1191\u001b[0m, in \u001b[0;36mExcelFile.__init__\u001b[1;34m(self, path_or_buffer, engine, storage_options)\u001b[0m\n\u001b[0;32m   1189\u001b[0m     ext \u001b[38;5;241m=\u001b[39m \u001b[38;5;124m\"\u001b[39m\u001b[38;5;124mxls\u001b[39m\u001b[38;5;124m\"\u001b[39m\n\u001b[0;32m   1190\u001b[0m \u001b[38;5;28;01melse\u001b[39;00m:\n\u001b[1;32m-> 1191\u001b[0m     ext \u001b[38;5;241m=\u001b[39m \u001b[43minspect_excel_format\u001b[49m\u001b[43m(\u001b[49m\n\u001b[0;32m   1192\u001b[0m \u001b[43m        \u001b[49m\u001b[43mcontent_or_path\u001b[49m\u001b[38;5;241;43m=\u001b[39;49m\u001b[43mpath_or_buffer\u001b[49m\u001b[43m,\u001b[49m\u001b[43m \u001b[49m\u001b[43mstorage_options\u001b[49m\u001b[38;5;241;43m=\u001b[39;49m\u001b[43mstorage_options\u001b[49m\n\u001b[0;32m   1193\u001b[0m \u001b[43m    \u001b[49m\u001b[43m)\u001b[49m\n\u001b[0;32m   1194\u001b[0m     \u001b[38;5;28;01mif\u001b[39;00m ext \u001b[38;5;129;01mis\u001b[39;00m \u001b[38;5;28;01mNone\u001b[39;00m:\n\u001b[0;32m   1195\u001b[0m         \u001b[38;5;28;01mraise\u001b[39;00m \u001b[38;5;167;01mValueError\u001b[39;00m(\n\u001b[0;32m   1196\u001b[0m             \u001b[38;5;124m\"\u001b[39m\u001b[38;5;124mExcel file format cannot be determined, you must specify \u001b[39m\u001b[38;5;124m\"\u001b[39m\n\u001b[0;32m   1197\u001b[0m             \u001b[38;5;124m\"\u001b[39m\u001b[38;5;124man engine manually.\u001b[39m\u001b[38;5;124m\"\u001b[39m\n\u001b[0;32m   1198\u001b[0m         )\n",
      "File \u001b[1;32mc:\\Users\\eva-m\\Documents\\Uni\\SS2024\\ModE\\programmieren\\venv_mode\\lib\\site-packages\\pandas\\io\\excel\\_base.py:1070\u001b[0m, in \u001b[0;36minspect_excel_format\u001b[1;34m(content_or_path, storage_options)\u001b[0m\n\u001b[0;32m   1067\u001b[0m \u001b[38;5;28;01mif\u001b[39;00m \u001b[38;5;28misinstance\u001b[39m(content_or_path, \u001b[38;5;28mbytes\u001b[39m):\n\u001b[0;32m   1068\u001b[0m     content_or_path \u001b[38;5;241m=\u001b[39m BytesIO(content_or_path)\n\u001b[1;32m-> 1070\u001b[0m \u001b[38;5;28;01mwith\u001b[39;00m \u001b[43mget_handle\u001b[49m\u001b[43m(\u001b[49m\n\u001b[0;32m   1071\u001b[0m \u001b[43m    \u001b[49m\u001b[43mcontent_or_path\u001b[49m\u001b[43m,\u001b[49m\u001b[43m \u001b[49m\u001b[38;5;124;43m\"\u001b[39;49m\u001b[38;5;124;43mrb\u001b[39;49m\u001b[38;5;124;43m\"\u001b[39;49m\u001b[43m,\u001b[49m\u001b[43m \u001b[49m\u001b[43mstorage_options\u001b[49m\u001b[38;5;241;43m=\u001b[39;49m\u001b[43mstorage_options\u001b[49m\u001b[43m,\u001b[49m\u001b[43m \u001b[49m\u001b[43mis_text\u001b[49m\u001b[38;5;241;43m=\u001b[39;49m\u001b[38;5;28;43;01mFalse\u001b[39;49;00m\n\u001b[0;32m   1072\u001b[0m \u001b[43m\u001b[49m\u001b[43m)\u001b[49m \u001b[38;5;28;01mas\u001b[39;00m handle:\n\u001b[0;32m   1073\u001b[0m     stream \u001b[38;5;241m=\u001b[39m handle\u001b[38;5;241m.\u001b[39mhandle\n\u001b[0;32m   1074\u001b[0m     stream\u001b[38;5;241m.\u001b[39mseek(\u001b[38;5;241m0\u001b[39m)\n",
      "File \u001b[1;32mc:\\Users\\eva-m\\Documents\\Uni\\SS2024\\ModE\\programmieren\\venv_mode\\lib\\site-packages\\pandas\\io\\common.py:711\u001b[0m, in \u001b[0;36mget_handle\u001b[1;34m(path_or_buf, mode, encoding, compression, memory_map, is_text, errors, storage_options)\u001b[0m\n\u001b[0;32m    702\u001b[0m         handle \u001b[38;5;241m=\u001b[39m \u001b[38;5;28mopen\u001b[39m(\n\u001b[0;32m    703\u001b[0m             handle,\n\u001b[0;32m    704\u001b[0m             ioargs\u001b[38;5;241m.\u001b[39mmode,\n\u001b[1;32m   (...)\u001b[0m\n\u001b[0;32m    707\u001b[0m             newline\u001b[38;5;241m=\u001b[39m\u001b[38;5;124m\"\u001b[39m\u001b[38;5;124m\"\u001b[39m,\n\u001b[0;32m    708\u001b[0m         )\n\u001b[0;32m    709\u001b[0m     \u001b[38;5;28;01melse\u001b[39;00m:\n\u001b[0;32m    710\u001b[0m         \u001b[38;5;66;03m# Binary mode\u001b[39;00m\n\u001b[1;32m--> 711\u001b[0m         handle \u001b[38;5;241m=\u001b[39m \u001b[38;5;28;43mopen\u001b[39;49m\u001b[43m(\u001b[49m\u001b[43mhandle\u001b[49m\u001b[43m,\u001b[49m\u001b[43m \u001b[49m\u001b[43mioargs\u001b[49m\u001b[38;5;241;43m.\u001b[39;49m\u001b[43mmode\u001b[49m\u001b[43m)\u001b[49m\n\u001b[0;32m    712\u001b[0m     handles\u001b[38;5;241m.\u001b[39mappend(handle)\n\u001b[0;32m    714\u001b[0m \u001b[38;5;66;03m# Convert BytesIO or file objects passed with an encoding\u001b[39;00m\n",
      "\u001b[1;31mFileNotFoundError\u001b[0m: [Errno 2] No such file or directory: '.\\\\Sourcetree_Daten\\\\Data_Sheet_neu.xlsx'"
     ]
    }
   ],
   "source": [
    "data_sheet = pd.read_excel(\".\\Data_Sheet_neu.xlsx\")\n",
    "#print(data_sheet)\n",
    "\n",
    "time_slices = np.array(time_series_data.index)\n",
    "#print(time_slices)"
   ]
  },
  {
   "cell_type": "markdown",
   "metadata": {},
   "source": [
    "## Setting up the model:"
   ]
  },
  {
   "cell_type": "code",
   "execution_count": 22,
   "metadata": {},
   "outputs": [
    {
     "ename": "NameError",
     "evalue": "name 'time_slices' is not defined",
     "output_type": "error",
     "traceback": [
      "\u001b[1;31m---------------------------------------------------------------------------\u001b[0m",
      "\u001b[1;31mNameError\u001b[0m                                 Traceback (most recent call last)",
      "Cell \u001b[1;32mIn[22], line 4\u001b[0m\n\u001b[0;32m      1\u001b[0m model \u001b[38;5;241m=\u001b[39m ConcreteModel() \u001b[38;5;66;03m#aus Pyomo\u001b[39;00m\n\u001b[0;32m      3\u001b[0m \u001b[38;5;66;03m# declare sets\u001b[39;00m\n\u001b[1;32m----> 4\u001b[0m model\u001b[38;5;241m.\u001b[39mtime_slices \u001b[38;5;241m=\u001b[39m \u001b[38;5;28mset\u001b[39m(\u001b[43mtime_slices\u001b[49m) \u001b[38;5;66;03m#was passiert hier genau? iwas mit Pyomo\u001b[39;00m\n\u001b[0;32m      6\u001b[0m model\u001b[38;5;241m.\u001b[39mtypical_days_rwo \u001b[38;5;241m=\u001b[39m Set(typical_days_row) \u001b[38;5;66;03m#das wäre eine Idee\u001b[39;00m\n\u001b[0;32m      7\u001b[0m \u001b[38;5;66;03m#typical_days_row=[1,2,3] # hier aus Time agregation die hier einfügen:\u001b[39;00m\n",
      "\u001b[1;31mNameError\u001b[0m: name 'time_slices' is not defined"
     ]
    }
   ],
   "source": [
    "model = ConcreteModel() #aus Pyomo\n",
    "\n",
    "# declare sets\n",
    "model.time_slices = set(time_slices) #was passiert hier genau? iwas mit Pyomo\n",
    "\n",
    "model.typical_days_row = Set(typical_days_row) #das wäre eine Idee \n",
    "#typical_days_row=[1,2,3] # hier aus Time agregation die hier einfügen:\n",
    "#   # Assign labels to each original period\n",
    "#   labels = aggregation.clusterOrder\n",
    "#   print(\"Cluster Labels:\")\n",
    "#   print(labels)"
   ]
  },
  {
   "cell_type": "code",
   "execution_count": null,
   "metadata": {},
   "outputs": [],
   "source": [
    "# declare decision variables\n",
    "model.OPEX = Var(domain=NonNegativeReals) # [€]\n",
    "\n",
    "# declare time dependent decision variables\n",
    "model.P_PV = Var(model.time_slices, domain=NonNegativeReals) # Photovoltaic [kW], nötig?\n",
    "model.P_PEM = Var(model.time_slices, domain=NonNegativeReals) # Electrolysis [kW]\n",
    "model.CO2_DAC = Var(model.time_slices, domain=NonNegativeReals) # DirectAirCapture [kg_CO2/hr]\n",
    "model.P_MR = Var(model.time_slices, domain=NonNegativeReals) # MethaneReformation [kW]\n",
    "model.Qdot_CHP = Var(model.time_slices, domain=NonNegativeReals) # CombinedHeatPower [kW]\n",
    "model.P_CHP = Var(model.time_slices, domain=NonNegativeReals) # CombinedHeatPower [kW]\n",
    "model.Qdot_BO = Var(model.time_slices, domain=NonNegativeReals) # Boiler [MW]\n",
    "\n",
    "model.P_battery = Var(model.time_slices, model.typical_days_row, domain=Reals) # [MW] [negative: storage charge, positive: storage discharge]\n",
    "model.storage_level_battery = Var(model.time_slices, model.typical_days_row, domain=NonNegativeReals) # [MWh]\n",
    "model.Qdot_thermalStorage = Var(model.time_slices, model.typical_days_row, domain=Reals) # [MW] [negative: storage charge, positive: storage discharge]\n",
    "model.storage_level_thermalStorage = Var(model.time_slices, model.typical_days_row, domain=NonNegativeReals) # [MWh]\n",
    "model.P_H2Storage = Var(model.time_slices, domain=Reals) # [MW] [negative: storage charge, positive: storage discharge]\n",
    "model.storage_level_H2Storage = Var(model.time_slices, domain=NonNegativeReals) # [MWh]\n",
    "model.P_CO2Storage = Var(model.time_slices, domain=Reals) # [MW] [negative: storage charge, positive: storage discharge]\n",
    "model.storage_level_CO2Storage = Var(model.time_slices, domain=NonNegativeReals) # [MWh]\n",
    "model.P_CH4Storage = Var(model.time_slices, domain=Reals) # [MW] [negative: storage charge, positive: storage discharge]\n",
    "model.storage_level_CH4Storage = Var(model.time_slices, domain=NonNegativeReals) # [MWh]"
   ]
  },
  {
   "cell_type": "code",
   "execution_count": null,
   "metadata": {},
   "outputs": [],
   "source": [
    "# declare parameters\n",
    "\n",
    "#WAS IST DAS?\n",
    "#i = 0.05\n",
    "#lifetime = 30\n",
    "#model.RBF = ((1 + i) ** lifetime * i) / ((1 + i) ** lifetime - 1)\n",
    "\n",
    "model.P_N_PV = 900 #[kw_e]\n",
    "\n",
    "model.P_N_PEM = 900 #[kW_e]\n",
    "model.eta_N_PEM = 0.63 #eta muss noch linerarisiert werden!!\n",
    "\n",
    "model.CO2_N_DAC = 250 #[kg_CO2/hr]\n",
    "model.eta_DAC = 0.5 #[kg_CO2/kWh_e]\n",
    "#ps fehlen noch\n",
    "\n",
    "model.P_N_MR = 1500 #[kW_CH4]\n",
    "model.eta_MR = 0.78\n",
    "\n",
    "model.Q_N_CHP = 800 #[kW_Q]\n",
    "model.eta__N_CHP_Q = 0.47 #eta muss noch linerarisiert werden!!\n",
    "model.eta_N_CHP_P = 0.4 #eta muss noch linerarisiert werden!!\n",
    "#ps fehlen noch\n",
    "\n",
    "model.Q_N_BO = 500 #[kW]\n",
    "model.eta_N_BO = 0.9 #eta muss noch linerarisiert werden!!\n",
    "#ps fehlen noch\n",
    "\n",
    "model.E_N_battery = 5000 #[kWh_e]\n",
    "model.eta_battery = 0.92 \n",
    "model.loss_battery = 0.000042 #[1/hr]\n",
    "model.c_battery = 0.36 #[1/hr]\n",
    "\n",
    "model.Q_N_thermalStorage = 5000 #[kWh_Q]\n",
    "model.eta_thermalStorage = 0.95 \n",
    "model.loss_thermalStorage = 0.005 #[1/hr]\n",
    "model.c_thermalStorage = 1 #[1/hr]\n",
    "\n",
    "model.E_N_H2Storage = 5000 #[kWh_H2]\n",
    "model.m_N_CO2Storage = 5000 #[kg_CO2]\n",
    "model.E_N_CH4Storage = 5000 #[kWh_CH4]\n",
    "model.loss_gasTanks = 0 #[1/hr]\n",
    "model.eta_gasTanks = 1 \n",
    "model.c_gasTanks = 0.25 #[1/hr]\n"
   ]
  },
  {
   "cell_type": "code",
   "execution_count": null,
   "metadata": {},
   "outputs": [],
   "source": [
    "# declare time dependent parameters\n",
    "#model.time_slice_weight = Param(model.time_slices, initialize = time_slice_weight)\n",
    "#model.gas_price = Param(model.time_slices, initialize = gas_price_time_series)\n",
    "#model.electricity_price = Param(model.time_slices, initialize = electricity_price_time_series)\n",
    "#model.Q_demand = Param(model.time_slices, initialize = heat_demand_time_series)"
   ]
  },
  {
   "cell_type": "code",
   "execution_count": null,
   "metadata": {},
   "outputs": [],
   "source": [
    "# declare unindexed constraints\n",
    "\n",
    "\n",
    "\n",
    "# declare rules to setup indexed constraints\n",
    "\n",
    "\n",
    "\n",
    "# declare indexed constraints"
   ]
  },
  {
   "cell_type": "markdown",
   "metadata": {},
   "source": [
    "## Solving the problem"
   ]
  },
  {
   "cell_type": "code",
   "execution_count": null,
   "metadata": {},
   "outputs": [],
   "source": [
    "#SolverFactory('gurobi').solve(model).write()"
   ]
  }
 ],
 "metadata": {
  "kernelspec": {
   "display_name": "Python 3",
   "language": "python",
   "name": "python3"
  },
  "language_info": {
   "codemirror_mode": {
    "name": "ipython",
    "version": 3
   },
   "file_extension": ".py",
   "mimetype": "text/x-python",
   "name": "python",
   "nbconvert_exporter": "python",
   "pygments_lexer": "ipython3",
   "version": "3.10.13"
  }
 },
 "nbformat": 4,
 "nbformat_minor": 2
}
