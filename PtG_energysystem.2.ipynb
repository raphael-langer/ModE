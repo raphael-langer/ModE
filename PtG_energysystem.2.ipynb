{
 "cells": [
  {
   "cell_type": "markdown",
   "metadata": {},
   "source": [
    "## The System:"
   ]
  },
  {
   "cell_type": "markdown",
   "metadata": {},
   "source": [
    "![grafik.png][def]\n",
    "\n",
    "\n",
    "[def]: .\\PTG_System.png"
   ]
  },
  {
   "cell_type": "markdown",
   "metadata": {},
   "source": [
    "## Preperation\n",
    "#### Welche Packages brauchen wir NICHT?"
   ]
  },
  {
   "cell_type": "code",
   "execution_count": 2,
   "metadata": {},
   "outputs": [
    {
     "name": "stdout",
     "output_type": "stream",
     "text": [
      "Requirement already satisfied: gurobipy==10.0.0 in c:\\users\\ext\\onedrive\\desktop\\mode\\venv_mode\\lib\\site-packages (10.0.0)\n",
      "Requirement already satisfied: pyomo==6.6.2 in c:\\users\\ext\\onedrive\\desktop\\mode\\venv_mode\\lib\\site-packages (6.6.2)\n",
      "Requirement already satisfied: ply in c:\\users\\ext\\onedrive\\desktop\\mode\\venv_mode\\lib\\site-packages (from pyomo==6.6.2) (3.11)\n",
      "Requirement already satisfied: numpy==1.24.3 in c:\\users\\ext\\onedrive\\desktop\\mode\\venv_mode\\lib\\site-packages (1.24.3)\n",
      "Requirement already satisfied: pandas==1.3.5 in c:\\users\\ext\\onedrive\\desktop\\mode\\venv_mode\\lib\\site-packages (1.3.5)\n",
      "Requirement already satisfied: python-dateutil>=2.7.3 in c:\\users\\ext\\onedrive\\desktop\\mode\\venv_mode\\lib\\site-packages (from pandas==1.3.5) (2.9.0.post0)\n",
      "Requirement already satisfied: pytz>=2017.3 in c:\\users\\ext\\onedrive\\desktop\\mode\\venv_mode\\lib\\site-packages (from pandas==1.3.5) (2024.1)\n",
      "Requirement already satisfied: numpy>=1.21.0 in c:\\users\\ext\\onedrive\\desktop\\mode\\venv_mode\\lib\\site-packages (from pandas==1.3.5) (1.24.3)\n",
      "Requirement already satisfied: six>=1.5 in c:\\users\\ext\\onedrive\\desktop\\mode\\venv_mode\\lib\\site-packages (from python-dateutil>=2.7.3->pandas==1.3.5) (1.16.0)\n",
      "Requirement already satisfied: matplotlib in c:\\users\\ext\\onedrive\\desktop\\mode\\venv_mode\\lib\\site-packages (3.8.4)\n",
      "Requirement already satisfied: contourpy>=1.0.1 in c:\\users\\ext\\onedrive\\desktop\\mode\\venv_mode\\lib\\site-packages (from matplotlib) (1.2.1)\n",
      "Requirement already satisfied: cycler>=0.10 in c:\\users\\ext\\onedrive\\desktop\\mode\\venv_mode\\lib\\site-packages (from matplotlib) (0.12.1)\n",
      "Requirement already satisfied: fonttools>=4.22.0 in c:\\users\\ext\\onedrive\\desktop\\mode\\venv_mode\\lib\\site-packages (from matplotlib) (4.51.0)\n",
      "Requirement already satisfied: kiwisolver>=1.3.1 in c:\\users\\ext\\onedrive\\desktop\\mode\\venv_mode\\lib\\site-packages (from matplotlib) (1.4.5)\n",
      "Requirement already satisfied: numpy>=1.21 in c:\\users\\ext\\onedrive\\desktop\\mode\\venv_mode\\lib\\site-packages (from matplotlib) (1.24.3)\n",
      "Requirement already satisfied: packaging>=20.0 in c:\\users\\ext\\onedrive\\desktop\\mode\\venv_mode\\lib\\site-packages (from matplotlib) (24.0)\n",
      "Requirement already satisfied: pillow>=8 in c:\\users\\ext\\onedrive\\desktop\\mode\\venv_mode\\lib\\site-packages (from matplotlib) (10.3.0)\n",
      "Requirement already satisfied: pyparsing>=2.3.1 in c:\\users\\ext\\onedrive\\desktop\\mode\\venv_mode\\lib\\site-packages (from matplotlib) (3.1.2)\n",
      "Requirement already satisfied: python-dateutil>=2.7 in c:\\users\\ext\\onedrive\\desktop\\mode\\venv_mode\\lib\\site-packages (from matplotlib) (2.9.0.post0)\n",
      "Requirement already satisfied: six>=1.5 in c:\\users\\ext\\onedrive\\desktop\\mode\\venv_mode\\lib\\site-packages (from python-dateutil>=2.7->matplotlib) (1.16.0)\n"
     ]
    }
   ],
   "source": [
    "!pip install gurobipy==10.0.0\n",
    "!pip install pyomo==6.6.2\n",
    "!pip install numpy==1.24.3\n",
    "!pip install pandas==1.3.5\n",
    "#!pip install tsam==2.3.1\n",
    "!pip install matplotlib\n",
    "#!pip install july"
   ]
  },
  {
   "cell_type": "code",
   "execution_count": 3,
   "metadata": {},
   "outputs": [],
   "source": [
    "from gurobipy import *\n",
    "from pyomo.environ import *\n",
    "import matplotlib.pyplot as plt\n",
    "import numpy as np\n",
    "import pandas as pd\n",
    "#import tsam.timeseriesaggregation as tsam\n",
    "#import july\n",
    "#from july.utils import date_range\n"
   ]
  },
  {
   "cell_type": "markdown",
   "metadata": {},
   "source": [
    "## Time series\n",
    "#### Daten laden"
   ]
  },
  {
   "cell_type": "code",
   "execution_count": 4,
   "metadata": {},
   "outputs": [
    {
     "name": "stdout",
     "output_type": "stream",
     "text": [
      "      Unnamed: 0  s     t  dt  PowerD_demand  HeatD_demand  P_PV_tot  \\\n",
      "0              0  1     1   1          158.4     69.178754   0.00000   \n",
      "1              1  1     2   1          156.0     56.480866   0.00000   \n",
      "2              2  1     3   1          156.0     45.267146   0.00000   \n",
      "3              3  1     4   1          156.6     39.165564   0.00000   \n",
      "4              4  1     5   1          151.2     40.567279   0.00000   \n",
      "...          ... ..   ...  ..            ...           ...       ...   \n",
      "8755        8755  1  8756   1          168.6     15.307163   4.33854   \n",
      "8756        8756  1  8757   1          174.0     14.920863   0.00000   \n",
      "8757        8757  1  8758   1          167.4     14.293124   0.00000   \n",
      "8758        8758  1  8759   1          166.8     23.033177   0.00000   \n",
      "8759        8759  1  8760   1          160.2     32.497543   0.00000   \n",
      "\n",
      "      electricity_price  \n",
      "0             -0.013287  \n",
      "1             -0.002750  \n",
      "2             -0.003778  \n",
      "3             -0.013056  \n",
      "4             -0.011539  \n",
      "...                 ...  \n",
      "8755           0.023130  \n",
      "8756           0.020431  \n",
      "8757           0.015420  \n",
      "8758           0.027447  \n",
      "8759           0.006271  \n",
      "\n",
      "[8760 rows x 8 columns]\n"
     ]
    }
   ],
   "source": [
    "data_sheet = pd.read_excel(\".\\Data_Sheet_neu.xlsx\")\n",
    "print(data_sheet)\n",
    "\n",
    "time_slices = np.array(data_sheet.index)\n",
    "#print(time_slices)\n",
    "\n",
    "\n",
    "time_series = list(range(1, 8761))\n",
    "next_time_slice = {time_series[i]: time_series[(i + 1) % len(time_series)] for i in range(len(time_series))}\n",
    "#print(next_time_slice)\n",
    "\n",
    "\n",
    "# gas price of each time slice\n",
    "power_demand_time_series = dict(zip(time_slices, np.array(data_sheet['PowerD_demand'])))\n",
    "\n",
    "# heat demand of each time slice\n",
    "heat_demand_time_series = dict(zip(time_slices, np.array(data_sheet['HeatD_demand'])))\n",
    "\n",
    "# electricity_price of each time slice\n",
    "electricity_price_time_series = dict(zip(time_slices, np.array(data_sheet['electricity_price'])))\n",
    "\n",
    "# PV_Power of eacj time slice\n",
    "power_PV_time_series = dict(zip(time_slices, np.array(data_sheet['P_PV_tot'])))\n",
    "\n"
   ]
  },
  {
   "cell_type": "markdown",
   "metadata": {},
   "source": [
    "## Setting up the model:"
   ]
  },
  {
   "cell_type": "code",
   "execution_count": 5,
   "metadata": {},
   "outputs": [],
   "source": [
    "model = ConcreteModel()\n",
    "\n",
    "# declare sets\n",
    "model.time_slices = set(time_slices)"
   ]
  },
  {
   "cell_type": "code",
   "execution_count": 6,
   "metadata": {},
   "outputs": [],
   "source": [
    "# declare decision variables\n",
    "model.OPEX = Var(domain=NonNegativeReals) # [€]\n",
    "\n",
    "# declare time dependent decision variables\n",
    "model.P_e_buy = Var(model.time_slices, domain=NonNegativeReals) # Power, that needs to get bought from the grid [kW_e]\n",
    "model.P_CH4_sell = Var(model.time_slices, domain=NonNegativeReals) # CH4, that gets to sell to the grid [kW_CH4]\n",
    "model.mdot_CO2_atm = Var(model.time_slices, domain=NonNegativeReals) # CH4, that gets to sell to the grid [kW_CH4]\n",
    "\n",
    "# Component_Inputs\n",
    "model.P_e_PEM = Var(model.time_slices, domain=NonNegativeReals) # Electrolysis [kW_e]\n",
    "model.P_e_DAC = Var(model.time_slices, domain=NonNegativeReals) # DirectAirCapture [kW_e]\n",
    "model.P_H2_MR = Var(model.time_slices, domain=NonNegativeReals) # MethaneReformation [kW_H2]\n",
    "model.P_CO2_MR = Var(model.time_slices, domain=NonNegativeReals) # MethaneReformation [kW_CO2] STIMMT EINHEIT???\n",
    "model.P_CH4_CHP = Var(model.time_slices, domain=NonNegativeReals) # CombinedHeatPower [kW_CH4]\n",
    "model.P_CH4_BO = Var(model.time_slices, domain=NonNegativeReals) # Boiler [kW_CH4]\n",
    "\n",
    "model.y_PEM = Var(model.time_slices, domain=Binary) # Electrolysis, on/off\n",
    "model.y_CHP = Var(model.time_slices, domain=Binary) # CombinedHeatPower, on/off\n",
    "model.y_BO = Var(model.time_slices, domain=Binary) # Boiler, on/off\n",
    "\n",
    "# Component_Outputs\n",
    "model.P_e_PV = Var(model.time_slices, domain=NonNegativeReals) # PV [kW_e]\n",
    "model.P_H2_PEM = Var(model.time_slices, domain=NonNegativeReals) # Electrolysis [kW_H2]\n",
    "model.mdot_CO2_DAC = Var(model.time_slices, domain=NonNegativeReals) # DirectAirCapture [kg_CO2/hr]\n",
    "model.P_CH4_MR = Var(model.time_slices, domain=NonNegativeReals) # MethaneReformation [kW_CH4]\n",
    "model.P_e_CHP = Var(model.time_slices, domain=NonNegativeReals) # CombinedHeatPower [kW_e]\n",
    "model.P_h_CHP = Var(model.time_slices, domain=NonNegativeReals) # CombinedHeatPower [kW_h]\n",
    "model.P_h_BO = Var(model.time_slices, domain=NonNegativeReals) # Boiler [kW_h]\n",
    "\n",
    "# Storages\n",
    "model.P_e_battery = Var(model.time_slices, domain=Reals) # [negative: storage charge, positive: storage discharge] [kW_e] \n",
    "model.storage_level_battery = Var(model.time_slices, domain=NonNegativeReals) # [kWh]\n",
    "model.in_battery =  Var(model.time_slices, domain=Binary) #einspeichern\n",
    "model.out_battery = Var(model.time_slices, domain=Binary) #ausspeichern\n",
    "\n",
    "model.P_h_thermalStorage = Var(model.time_slices, domain=Reals) # [negative: storage charge, positive: storage discharge] [kW_h]\n",
    "model.storage_level_thermalStorage = Var(model.time_slices, domain=NonNegativeReals) # [kWh]\n",
    "model.in_thermalStorage =  Var(model.time_slices, domain=Binary) #einspeichern\n",
    "model.out_thermalStorage = Var(model.time_slices, domain=Binary) #ausspeichern\n",
    "\n",
    "model.P_H2_gasStorage = Var(model.time_slices, domain=Reals) # [negative: storage charge, positive: storage discharge] [kW_H2]\n",
    "model.storage_level_H2Storage = Var(model.time_slices, domain=NonNegativeReals) # [kWh_H2]\n",
    "model.in_H2Storage =  Var(model.time_slices, domain=Binary) #einspeichern\n",
    "model.out_H2Storage = Var(model.time_slices, domain=Binary) #ausspeichern\n",
    "\n",
    "model.P_CO2_gasStorage = Var(model.time_slices, domain=Reals) # [negative: storage charge, positive: storage discharge] [kg_CO2/hr]\n",
    "model.storage_level_CO2Storage = Var(model.time_slices, domain=NonNegativeReals) # [kg_CO2]\n",
    "model.in_CO2Storage =  Var(model.time_slices, domain=Binary) #einspeichern\n",
    "model.out_CO2Storage = Var(model.time_slices, domain=Binary) #ausspeichern\n",
    "\n",
    "model.P_CH4_gasStorage = Var(model.time_slices, domain=Reals) # [negative: storage charge, positive: storage discharge] [kW_CH4]\n",
    "model.storage_level_CH4Storage = Var(model.time_slices, domain=NonNegativeReals) # [kWh_CH4]\n",
    "model.in_CH4Storage =  Var(model.time_slices, domain=Binary) #einspeichern\n",
    "model.out_CH4Storage = Var(model.time_slices, domain=Binary) #ausspeichern\n"
   ]
  },
  {
   "cell_type": "code",
   "execution_count": 7,
   "metadata": {},
   "outputs": [],
   "source": [
    "# declare parameters\n",
    "\n",
    "model.price_co2 = 84.4 # [€/ton]\n",
    "model.price_gas = 0.0775 # [€/kWh]\n",
    "\n",
    "\n",
    "model.P_e_N_PV = 900 #[kW_e]\n",
    "\n",
    "model.P_e_N_PEM = 900 #[kW_e]\n",
    "model.eta_N_PEM = 0.63 #eta muss noch linerarisiert werden!!\n",
    "model.p_min_PEM = 0.2\n",
    "model.p_max_PEM = 1.2\n",
    "\n",
    "model.mdot_CH4_N_DAC = 250 #[kg_CO2/hr]\n",
    "model.eta_DAC = 0.5 #[kg_CO2/kWh_e]\n",
    "\n",
    "model.P_CH4_N_MR = 1500 #[kW_CH4]\n",
    "model.eta_MR = 0.78\n",
    "model.co2need_MR = 0.178 #E_in_CO2/E_out_CH4\n",
    "\n",
    "model.P_h_N_CHP = 800 #[kW_h]\n",
    "model.eta__N_CHP_Q = 0.47 #eta muss noch linerarisiert werden!!\n",
    "model.eta_N_CHP_P = 0.4 #eta muss noch linerarisiert werden!!\n",
    "model.p_min_CHP = 0.5\n",
    "model.p_max_CHP = 1\n",
    "\n",
    "model.P_h_N_BO = 500 #[kW_h]\n",
    "model.eta_N_BO = 0.9 #eta muss noch linerarisiert werden!!\n",
    "model.p_min_BO = 0.001\n",
    "model.p_max_BO = 1\n",
    "\n",
    "model.E_N_battery = 5000 #[kWh_e]\n",
    "model.eta_battery = 0.92 \n",
    "model.loss_battery = 0.000042 #[1/hr]\n",
    "model.c_battery = 0.36 #[1/hr]\n",
    "\n",
    "model.Q_N_thermalStorage = 5000 #[kWh_Q]\n",
    "model.eta_thermalStorage = 0.95 \n",
    "model.loss_thermalStorage = 0.005 #[1/hr]\n",
    "model.c_thermalStorage = 1 #[1/hr]\n",
    "\n",
    "model.E_N_H2Storage = 5000 #[kWh_H2]\n",
    "model.m_N_CO2Storage = 5000 #[kg_CO2]\n",
    "model.E_N_CH4Storage = 5000 #[kWh_CH4]\n",
    "model.loss_gasTanks = 0 #[1/hr]\n",
    "model.eta_gasTanks = 1 \n",
    "model.c_gasTanks = 0.25 #[1/hr]\n"
   ]
  },
  {
   "cell_type": "code",
   "execution_count": 8,
   "metadata": {},
   "outputs": [],
   "source": [
    "#declare time dependent parameters\n",
    "model.P_e_demand = Param(model.time_slices, initialize = power_demand_time_series)\n",
    "model.Q_demand = Param(model.time_slices, initialize = heat_demand_time_series)\n",
    "\n",
    "model.electricity_price = Param(model.time_slices, initialize = electricity_price_time_series)\n",
    "\n",
    "model.P_PV = Param(model.time_slices, initialize = power_PV_time_series)\n"
   ]
  },
  {
   "cell_type": "code",
   "execution_count": 10,
   "metadata": {},
   "outputs": [],
   "source": [
    "# declare unindexed constraints\n",
    "model.OPEX_constraint = Constraint(expr =  model.OPEX == sum(model.electricity_price[time_slice]*model.P_e_buy[time_slice] for time_slice in model.time_slices) \n",
    "                                     +  sum(model.price_co2 * model.mdot_CO2_atm[time_slice] for time_slice in model.time_slices)\n",
    "                                     -  sum(model.price_gas * model.P_CH4_sell[time_slice] for time_slice in model.time_slices)\n",
    "                                     )\n",
    "\n",
    "# declare rules to setup indexed constraints\n",
    "def electricty_balance_constraint_rule(model, time_slice):\n",
    "    return model.P_e_PV[time_slice] + model.P_e_CHP[time_slice] + model.P_e_battery[time_slice] + model.P_e_buy[time_slice] == model.P_e_demand[time_slice] + model.P_e_PEM[time_slice] + model.P_e_DAC[time_slice]\n",
    "\n",
    "def heat_balance_constraint_rule(model, time_slice):\n",
    "    return model.P_h_CHP[time_slice] + model.P_h_BO[time_slice] + model.P_h_thermalStorage[time_slice] == model.Q_demand\n",
    "\n",
    "def h2_balance_constraint_rule(model, time_slice):\n",
    "    return model.P_H2_PEM[time_slice] + model.P_H2_gasStorage == model.P_H2_MR\n",
    "\n",
    "def co2_balance_contraint_rule(model, time_slices):\n",
    "    return model.mdot_CO2_DAC[time_slices] + model.P_CO2_gasStorage[time_slices] == model.P_CO2_MR[time_slices]\n",
    "# gesmischte EINHEITEN !!!ACHTUNG\n",
    "\n",
    "def ch4_balance_constraint_rule(model, time_slices):\n",
    "    return model.P_CH4_MR[time_series] + model.P_CH4_gasStorage[time_series] == model.P_CH4_MR[time_series] + model.P_CH4_BO[time_series] + model.P_CH4_sell[time_series]\n",
    "\n",
    "##Components, Input->Output, Nenngröße, \n",
    "\n",
    "\n",
    "##Storages, storage_level, storage_maximum\n",
    "\n",
    "\n",
    "\n",
    "# declare indexed constraints"
   ]
  },
  {
   "cell_type": "markdown",
   "metadata": {},
   "source": [
    "## Solving the problem"
   ]
  },
  {
   "cell_type": "code",
   "execution_count": null,
   "metadata": {},
   "outputs": [],
   "source": [
    "#SolverFactory('gurobi').solve(model).write()"
   ]
  }
 ],
 "metadata": {
  "kernelspec": {
   "display_name": "Python 3",
   "language": "python",
   "name": "python3"
  },
  "language_info": {
   "codemirror_mode": {
    "name": "ipython",
    "version": 3
   },
   "file_extension": ".py",
   "mimetype": "text/x-python",
   "name": "python",
   "nbconvert_exporter": "python",
   "pygments_lexer": "ipython3",
   "version": "3.10.13"
  }
 },
 "nbformat": 4,
 "nbformat_minor": 2
}
