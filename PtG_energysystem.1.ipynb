{
 "cells": [
  {
   "cell_type": "markdown",
   "metadata": {},
   "source": [
    "## The System:"
   ]
  },
  {
   "cell_type": "markdown",
   "metadata": {},
   "source": [
    "![grafik.png][def]\n",
    "\n",
    "\n",
    "[def]: .\\PTG_System.png"
   ]
  },
  {
   "cell_type": "markdown",
   "metadata": {},
   "source": [
    "## Preperation\n",
    "#### Welche Packages brauchen wir NICHT?"
   ]
  },
  {
   "cell_type": "code",
   "execution_count": 1,
   "metadata": {},
   "outputs": [
    {
     "name": "stdout",
     "output_type": "stream",
     "text": [
      "Requirement already satisfied: gurobipy==10.0.0 in c:\\users\\ext\\onedrive\\desktop\\mode\\venv_mode\\lib\\site-packages (10.0.0)\n",
      "Requirement already satisfied: pyomo==6.6.2 in c:\\users\\ext\\onedrive\\desktop\\mode\\venv_mode\\lib\\site-packages (6.6.2)\n",
      "Requirement already satisfied: ply in c:\\users\\ext\\onedrive\\desktop\\mode\\venv_mode\\lib\\site-packages (from pyomo==6.6.2) (3.11)\n",
      "Requirement already satisfied: numpy==1.24.3 in c:\\users\\ext\\onedrive\\desktop\\mode\\venv_mode\\lib\\site-packages (1.24.3)\n",
      "Requirement already satisfied: pandas==1.3.5 in c:\\users\\ext\\onedrive\\desktop\\mode\\venv_mode\\lib\\site-packages (1.3.5)\n",
      "Requirement already satisfied: python-dateutil>=2.7.3 in c:\\users\\ext\\onedrive\\desktop\\mode\\venv_mode\\lib\\site-packages (from pandas==1.3.5) (2.9.0.post0)\n",
      "Requirement already satisfied: pytz>=2017.3 in c:\\users\\ext\\onedrive\\desktop\\mode\\venv_mode\\lib\\site-packages (from pandas==1.3.5) (2024.1)\n",
      "Requirement already satisfied: numpy>=1.21.0 in c:\\users\\ext\\onedrive\\desktop\\mode\\venv_mode\\lib\\site-packages (from pandas==1.3.5) (1.24.3)\n",
      "Requirement already satisfied: six>=1.5 in c:\\users\\ext\\onedrive\\desktop\\mode\\venv_mode\\lib\\site-packages (from python-dateutil>=2.7.3->pandas==1.3.5) (1.16.0)\n",
      "Requirement already satisfied: matplotlib in c:\\users\\ext\\onedrive\\desktop\\mode\\venv_mode\\lib\\site-packages (3.8.4)\n",
      "Requirement already satisfied: contourpy>=1.0.1 in c:\\users\\ext\\onedrive\\desktop\\mode\\venv_mode\\lib\\site-packages (from matplotlib) (1.2.1)\n",
      "Requirement already satisfied: cycler>=0.10 in c:\\users\\ext\\onedrive\\desktop\\mode\\venv_mode\\lib\\site-packages (from matplotlib) (0.12.1)\n",
      "Requirement already satisfied: fonttools>=4.22.0 in c:\\users\\ext\\onedrive\\desktop\\mode\\venv_mode\\lib\\site-packages (from matplotlib) (4.51.0)\n",
      "Requirement already satisfied: kiwisolver>=1.3.1 in c:\\users\\ext\\onedrive\\desktop\\mode\\venv_mode\\lib\\site-packages (from matplotlib) (1.4.5)\n",
      "Requirement already satisfied: numpy>=1.21 in c:\\users\\ext\\onedrive\\desktop\\mode\\venv_mode\\lib\\site-packages (from matplotlib) (1.24.3)\n",
      "Requirement already satisfied: packaging>=20.0 in c:\\users\\ext\\onedrive\\desktop\\mode\\venv_mode\\lib\\site-packages (from matplotlib) (24.0)\n",
      "Requirement already satisfied: pillow>=8 in c:\\users\\ext\\onedrive\\desktop\\mode\\venv_mode\\lib\\site-packages (from matplotlib) (10.3.0)\n",
      "Requirement already satisfied: pyparsing>=2.3.1 in c:\\users\\ext\\onedrive\\desktop\\mode\\venv_mode\\lib\\site-packages (from matplotlib) (3.1.2)\n",
      "Requirement already satisfied: python-dateutil>=2.7 in c:\\users\\ext\\onedrive\\desktop\\mode\\venv_mode\\lib\\site-packages (from matplotlib) (2.9.0.post0)\n",
      "Requirement already satisfied: six>=1.5 in c:\\users\\ext\\onedrive\\desktop\\mode\\venv_mode\\lib\\site-packages (from python-dateutil>=2.7->matplotlib) (1.16.0)\n"
     ]
    }
   ],
   "source": [
    "!pip install gurobipy==10.0.0\n",
    "!pip install pyomo==6.6.2\n",
    "!pip install numpy==1.24.3\n",
    "!pip install pandas==1.3.5\n",
    "#!pip install tsam==2.3.1\n",
    "!pip install matplotlib\n",
    "#!pip install july"
   ]
  },
  {
   "cell_type": "code",
   "execution_count": 2,
   "metadata": {},
   "outputs": [],
   "source": [
    "from gurobipy import *\n",
    "from pyomo.environ import *\n",
    "import matplotlib.pyplot as plt\n",
    "import numpy as np\n",
    "import pandas as pd\n",
    "#import tsam.timeseriesaggregation as tsam\n",
    "#import july\n",
    "#from july.utils import date_range\n"
   ]
  },
  {
   "cell_type": "markdown",
   "metadata": {},
   "source": [
    "## Time series\n",
    "#### Daten laden"
   ]
  },
  {
   "cell_type": "code",
   "execution_count": 6,
   "metadata": {},
   "outputs": [
    {
     "name": "stdout",
     "output_type": "stream",
     "text": [
      "      Unnamed: 0  s     t  dt  PowerD_demand  HeatD_demand  P_PV_tot\n",
      "0              0  1     1   1          158.4     69.178754   0.00000\n",
      "1              1  1     2   1          156.0     56.480866   0.00000\n",
      "2              2  1     3   1          156.0     45.267146   0.00000\n",
      "3              3  1     4   1          156.6     39.165564   0.00000\n",
      "4              4  1     5   1          151.2     40.567279   0.00000\n",
      "...          ... ..   ...  ..            ...           ...       ...\n",
      "8755        8755  1  8756   1          168.6     15.307163   4.33854\n",
      "8756        8756  1  8757   1          174.0     14.920863   0.00000\n",
      "8757        8757  1  8758   1          167.4     14.293124   0.00000\n",
      "8758        8758  1  8759   1          166.8     23.033177   0.00000\n",
      "8759        8759  1  8760   1          160.2     32.497543   0.00000\n",
      "\n",
      "[8760 rows x 7 columns]\n",
      "[   0    1    2 ... 8757 8758 8759]\n"
     ]
    }
   ],
   "source": [
    "data_sheet = pd.read_excel(\".\\Data_Sheet_neu.xlsx\")\n",
    "#print(data_sheet)\n",
    "\n",
    "time_slices = np.array(time_series_data.index)\n",
    "#print(time_slices)"
   ]
  },
  {
   "cell_type": "markdown",
   "metadata": {},
   "source": [
    "## Setting up the model:"
   ]
  },
  {
   "cell_type": "code",
   "execution_count": 7,
   "metadata": {},
   "outputs": [],
   "source": [
    "model = ConcreteModel() #aus Pyomo\n",
    "\n",
    "# declare sets\n",
    "model.time_slices = set(time_slices) #was passiert hier genau? iwas mit Pyomo"
   ]
  },
  {
   "cell_type": "code",
   "execution_count": null,
   "metadata": {},
   "outputs": [],
   "source": [
    "# declare decision variables\n",
    "model.OPEX = Var(domain=NonNegativeReals) # [€]\n",
    "\n",
    "# declare time dependent decision variables\n",
    "model.P_PV = Var(model.time_slices, domain=NonNegativeReals) # Photovoltaic [kW], nötig?\n",
    "model.H2_PEM = Var(model.time_slices, domain=NonNegativeReals) # Electrolysis [kW]\n",
    "model.CO2_DAC = Var(model.time_slices, domain=NonNegativeReals) # DirectAirCapture [kg_CO2/hr]\n",
    "model.CH4_MR = Var(model.time_slices, domain=NonNegativeReals) # MethaneReformation [kW]\n",
    "model.Q_CHP = Var(model.time_slices, domain=NonNegativeReals) # CombinedHeatPower [kW]\n",
    "model.P_CHP = Var(model.time_slices, domain=NonNegativeReals) # CombinedHeatPower [kW]\n",
    "model.Q_BO = Var(model.time_slices, domain=NonNegativeReals) # Boiler [MW]\n",
    "\n",
    "model.P_battery = Var(model.time_slices, domain=Reals) # [MW] [negative: storage charge, positive: storage discharge]\n",
    "model.storage_level_battery = Var(model.time_slices, domain=NonNegativeReals) # [MWh]\n",
    "model.P_thermalStorage = Var(model.time_slices, domain=Reals) # [MW] [negative: storage charge, positive: storage discharge]\n",
    "model.storage_level_thermalStorage = Var(model.time_slices, domain=NonNegativeReals) # [MWh]\n",
    "model.P_H2_Storage = Var(model.time_slices, domain=Reals) # [MW] [negative: storage charge, positive: storage discharge]\n",
    "model.storage_level_H2_Storage = Var(model.time_slices, domain=NonNegativeReals) # [MWh]\n",
    "model.P_CO2_Storage = Var(model.time_slices, domain=Reals) # [MW] [negative: storage charge, positive: storage discharge]\n",
    "model.storage_level_CO2_Storage = Var(model.time_slices, domain=NonNegativeReals) # [MWh]\n",
    "model.P_CH4_Storage = Var(model.time_slices, domain=Reals) # [MW] [negative: storage charge, positive: storage discharge]\n",
    "model.storage_level_CH4_Storage = Var(model.time_slices, domain=NonNegativeReals) # [MWh]"
   ]
  },
  {
   "cell_type": "code",
   "execution_count": null,
   "metadata": {},
   "outputs": [],
   "source": [
    "# declare parameters\n",
    "#i = 0.05\n",
    "#lifetime = 30\n",
    "#model.RBF = ((1 + i) ** lifetime * i) / ((1 + i) ** lifetime - 1)\n",
    "\n",
    "model.P_N_PV = 900 #[kw]\n",
    "model.P_N_PEM = 900 #[kW]\n",
    "model.CO2_N_MR = 1500 #[kg/hr]\n",
    "model.Q_N_CHP = 800 #[kW]\n",
    "model.Q_N = 500 #[kW]\n",
    "\n",
    "#etas + storages\n",
    "\n",
    "model.Q_max_B = 10 # [MW] maximal installable capacity of boiler\n",
    "model.eta_B = 0.9\n",
    "model.specific_invest_B = 2500 # [€/MW]\n",
    "\n",
    "model.Q_max_HP = 10 # [MW] maximal installable capacity of heat pump\n",
    "model.eta_HP = 3\n",
    "model.specific_invest_HP = 100000 # [€/MW]\n",
    "\n",
    "model.Q_max_storage = 40 # [MWh] maximal installable capacity of storage\n",
    "model.storage_loss = 0.01 # [1/h] hourly storage loss\n",
    "model.specific_invest_storage = 1000 # [€/MWh]"
   ]
  },
  {
   "cell_type": "code",
   "execution_count": null,
   "metadata": {},
   "outputs": [],
   "source": [
    "# declare time dependent parameters\n",
    "model.time_slice_weight = Param(model.time_slices, initialize = time_slice_weight)\n",
    "model.gas_price = Param(model.time_slices, initialize = gas_price_time_series)\n",
    "model.electricity_price = Param(model.time_slices, initialize = electricity_price_time_series)\n",
    "model.Q_demand = Param(model.time_slices, initialize = heat_demand_time_series)"
   ]
  },
  {
   "cell_type": "code",
   "execution_count": null,
   "metadata": {},
   "outputs": [],
   "source": [
    "# declare unindexed constraints\n",
    "\n",
    "\n",
    "\n",
    "# declare rules to setup indexed constraints\n",
    "\n",
    "\n",
    "\n",
    "# declare indexed constraints"
   ]
  },
  {
   "cell_type": "markdown",
   "metadata": {},
   "source": [
    "## Solving the problem"
   ]
  },
  {
   "cell_type": "code",
   "execution_count": null,
   "metadata": {},
   "outputs": [],
   "source": [
    "#SolverFactory('gurobi').solve(model).write()"
   ]
  }
 ],
 "metadata": {
  "kernelspec": {
   "display_name": "Python 3",
   "language": "python",
   "name": "python3"
  },
  "language_info": {
   "codemirror_mode": {
    "name": "ipython",
    "version": 3
   },
   "file_extension": ".py",
   "mimetype": "text/x-python",
   "name": "python",
   "nbconvert_exporter": "python",
   "pygments_lexer": "ipython3",
   "version": "3.10.13"
  }
 },
 "nbformat": 4,
 "nbformat_minor": 2
}
